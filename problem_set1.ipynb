{
  "nbformat": 4,
  "nbformat_minor": 0,
  "metadata": {
    "colab": {
      "provenance": []
    },
    "kernelspec": {
      "name": "python3",
      "display_name": "Python 3"
    },
    "language_info": {
      "name": "python"
    }
  },
  "cells": [
    {
      "cell_type": "markdown",
      "source": [
        "problem set 1\n"
      ],
      "metadata": {
        "id": "2qeWQ-oG2HR0"
      }
    },
    {
      "cell_type": "markdown",
      "source": [
        "Question 1:"
      ],
      "metadata": {
        "id": "t6tGUgTU2jtt"
      }
    },
    {
      "cell_type": "code",
      "source": [
        "def dataType(a):\n",
        "  return \"Data type of {} is {}\".format(a,type(a))"
      ],
      "metadata": {
        "id": "z_o311fo3K0s"
      },
      "execution_count": null,
      "outputs": []
    },
    {
      "cell_type": "code",
      "source": [
        "dataType(5)"
      ],
      "metadata": {
        "colab": {
          "base_uri": "https://localhost:8080/",
          "height": 36
        },
        "id": "g4n9uDM03XMT",
        "outputId": "ac48e453-99be-4811-860b-64d5f2c65607"
      },
      "execution_count": null,
      "outputs": [
        {
          "output_type": "execute_result",
          "data": {
            "text/plain": [
              "\"Data type of 5 is <class 'int'>\""
            ],
            "application/vnd.google.colaboratory.intrinsic+json": {
              "type": "string"
            }
          },
          "metadata": {},
          "execution_count": 15
        }
      ]
    },
    {
      "cell_type": "code",
      "source": [
        "dataType(5.0)"
      ],
      "metadata": {
        "colab": {
          "base_uri": "https://localhost:8080/",
          "height": 36
        },
        "id": "PVz8GIzK3Z9b",
        "outputId": "00971c88-99c6-45dc-c82c-8deaac411120"
      },
      "execution_count": null,
      "outputs": [
        {
          "output_type": "execute_result",
          "data": {
            "text/plain": [
              "\"Data type of 5.0 is <class 'float'>\""
            ],
            "application/vnd.google.colaboratory.intrinsic+json": {
              "type": "string"
            }
          },
          "metadata": {},
          "execution_count": 16
        }
      ]
    },
    {
      "cell_type": "code",
      "source": [
        "dataType(5>1)"
      ],
      "metadata": {
        "colab": {
          "base_uri": "https://localhost:8080/",
          "height": 36
        },
        "id": "A3bFQdXx4mQL",
        "outputId": "e5b2a982-5269-4615-86ff-90f54e8f737d"
      },
      "execution_count": null,
      "outputs": [
        {
          "output_type": "execute_result",
          "data": {
            "text/plain": [
              "\"Data type of True is <class 'bool'>\""
            ],
            "application/vnd.google.colaboratory.intrinsic+json": {
              "type": "string"
            }
          },
          "metadata": {},
          "execution_count": 17
        }
      ]
    },
    {
      "cell_type": "code",
      "source": [
        "dataType('5')"
      ],
      "metadata": {
        "colab": {
          "base_uri": "https://localhost:8080/",
          "height": 36
        },
        "id": "codcrLY64qYJ",
        "outputId": "c7cf6e58-1b92-4c2c-fb7a-959696804293"
      },
      "execution_count": null,
      "outputs": [
        {
          "output_type": "execute_result",
          "data": {
            "text/plain": [
              "\"Data type of 5 is <class 'str'>\""
            ],
            "application/vnd.google.colaboratory.intrinsic+json": {
              "type": "string"
            }
          },
          "metadata": {},
          "execution_count": 18
        }
      ]
    },
    {
      "cell_type": "code",
      "source": [
        "dataType(5*2)"
      ],
      "metadata": {
        "colab": {
          "base_uri": "https://localhost:8080/",
          "height": 36
        },
        "id": "8s8IB-s44w1U",
        "outputId": "a883c9cb-bebb-423e-9bee-d76536ed9005"
      },
      "execution_count": null,
      "outputs": [
        {
          "output_type": "execute_result",
          "data": {
            "text/plain": [
              "\"Data type of 10 is <class 'int'>\""
            ],
            "application/vnd.google.colaboratory.intrinsic+json": {
              "type": "string"
            }
          },
          "metadata": {},
          "execution_count": 19
        }
      ]
    },
    {
      "cell_type": "code",
      "source": [
        "dataType('5' * 2)"
      ],
      "metadata": {
        "colab": {
          "base_uri": "https://localhost:8080/",
          "height": 36
        },
        "id": "1m4ynrwn4815",
        "outputId": "6cbefa63-9a7a-49f1-fb71-b44eb3aa58a5"
      },
      "execution_count": null,
      "outputs": [
        {
          "output_type": "execute_result",
          "data": {
            "text/plain": [
              "\"Data type of 55 is <class 'str'>\""
            ],
            "application/vnd.google.colaboratory.intrinsic+json": {
              "type": "string"
            }
          },
          "metadata": {},
          "execution_count": 20
        }
      ]
    },
    {
      "cell_type": "code",
      "source": [
        "dataType('5' + '2')"
      ],
      "metadata": {
        "colab": {
          "base_uri": "https://localhost:8080/",
          "height": 36
        },
        "id": "_j6uEuGs5M__",
        "outputId": "8147ca32-60dd-41ba-f3cc-2850f47cfb93"
      },
      "execution_count": null,
      "outputs": [
        {
          "output_type": "execute_result",
          "data": {
            "text/plain": [
              "\"Data type of 52 is <class 'str'>\""
            ],
            "application/vnd.google.colaboratory.intrinsic+json": {
              "type": "string"
            }
          },
          "metadata": {},
          "execution_count": 21
        }
      ]
    },
    {
      "cell_type": "code",
      "source": [
        "dataType(5 / 2)"
      ],
      "metadata": {
        "colab": {
          "base_uri": "https://localhost:8080/",
          "height": 36
        },
        "id": "aErITvIQ5UUI",
        "outputId": "0c71099b-3705-4e50-9858-20bb13bf2cda"
      },
      "execution_count": null,
      "outputs": [
        {
          "output_type": "execute_result",
          "data": {
            "text/plain": [
              "\"Data type of 2.5 is <class 'float'>\""
            ],
            "application/vnd.google.colaboratory.intrinsic+json": {
              "type": "string"
            }
          },
          "metadata": {},
          "execution_count": 22
        }
      ]
    },
    {
      "cell_type": "code",
      "source": [
        "dataType(5%2)"
      ],
      "metadata": {
        "colab": {
          "base_uri": "https://localhost:8080/",
          "height": 36
        },
        "id": "9WDOV6Oy5o8G",
        "outputId": "b70a06e1-8491-4ce0-d1ae-8e2d2fd1460c"
      },
      "execution_count": null,
      "outputs": [
        {
          "output_type": "execute_result",
          "data": {
            "text/plain": [
              "\"Data type of 1 is <class 'int'>\""
            ],
            "application/vnd.google.colaboratory.intrinsic+json": {
              "type": "string"
            }
          },
          "metadata": {},
          "execution_count": 23
        }
      ]
    },
    {
      "cell_type": "code",
      "source": [
        "dataType({5, 2, 1})"
      ],
      "metadata": {
        "colab": {
          "base_uri": "https://localhost:8080/",
          "height": 36
        },
        "id": "tURJLIWr5sx7",
        "outputId": "ae1eca66-fc9d-43dc-d020-0a18c91ebfa1"
      },
      "execution_count": null,
      "outputs": [
        {
          "output_type": "execute_result",
          "data": {
            "text/plain": [
              "\"Data type of {1, 2, 5} is <class 'set'>\""
            ],
            "application/vnd.google.colaboratory.intrinsic+json": {
              "type": "string"
            }
          },
          "metadata": {},
          "execution_count": 24
        }
      ]
    },
    {
      "cell_type": "code",
      "source": [
        "dataType(5 == 3)"
      ],
      "metadata": {
        "colab": {
          "base_uri": "https://localhost:8080/",
          "height": 36
        },
        "id": "U4dha57D5xe7",
        "outputId": "8a655dde-8d0a-4457-cb21-19698d5bfabb"
      },
      "execution_count": null,
      "outputs": [
        {
          "output_type": "execute_result",
          "data": {
            "text/plain": [
              "\"Data type of False is <class 'bool'>\""
            ],
            "application/vnd.google.colaboratory.intrinsic+json": {
              "type": "string"
            }
          },
          "metadata": {},
          "execution_count": 25
        }
      ]
    },
    {
      "cell_type": "code",
      "source": [
        "import math"
      ],
      "metadata": {
        "id": "Q2FU3VPW6HkW"
      },
      "execution_count": null,
      "outputs": []
    },
    {
      "cell_type": "code",
      "source": [
        "dataType(math.pi)"
      ],
      "metadata": {
        "colab": {
          "base_uri": "https://localhost:8080/",
          "height": 36
        },
        "id": "F64KkMaC53mB",
        "outputId": "8d7f42b2-c50e-45a9-e1f9-8428c8085f36"
      },
      "execution_count": null,
      "outputs": [
        {
          "output_type": "execute_result",
          "data": {
            "text/plain": [
              "\"Data type of 3.141592653589793 is <class 'float'>\""
            ],
            "application/vnd.google.colaboratory.intrinsic+json": {
              "type": "string"
            }
          },
          "metadata": {},
          "execution_count": 27
        }
      ]
    },
    {
      "cell_type": "markdown",
      "source": [
        "Question 2:"
      ],
      "metadata": {
        "id": "TpsvfWly6Yad"
      }
    },
    {
      "cell_type": "markdown",
      "source": [
        "a."
      ],
      "metadata": {
        "id": "PzVdKs9drDiR"
      }
    },
    {
      "cell_type": "code",
      "source": [
        "len('Supercalifragilisticexpialidocious')"
      ],
      "metadata": {
        "id": "n49Oc4cz6aR4",
        "colab": {
          "base_uri": "https://localhost:8080/"
        },
        "outputId": "60df0c99-64aa-451e-fa5f-b2a84e523f4d"
      },
      "execution_count": null,
      "outputs": [
        {
          "output_type": "execute_result",
          "data": {
            "text/plain": [
              "34"
            ]
          },
          "metadata": {},
          "execution_count": 28
        }
      ]
    },
    {
      "cell_type": "markdown",
      "source": [
        "b."
      ],
      "metadata": {
        "id": "7dU3PtvyrJWw"
      }
    },
    {
      "cell_type": "code",
      "source": [
        "if \"ice\" in \"Supercalifragilisticexpialidociou\".lower():\n",
        "    print(\"Exists\")\n",
        "else:\n",
        "    print(\"Does not exist\")"
      ],
      "metadata": {
        "colab": {
          "base_uri": "https://localhost:8080/"
        },
        "id": "eCvZTp0KAxmp",
        "outputId": "c418fe42-37f3-4b2a-e2e8-c0ad58d2c34e"
      },
      "execution_count": null,
      "outputs": [
        {
          "output_type": "stream",
          "name": "stdout",
          "text": [
            "Exists\n"
          ]
        }
      ]
    },
    {
      "cell_type": "markdown",
      "source": [
        "c."
      ],
      "metadata": {
        "id": "s7KTDlMyrLgC"
      }
    },
    {
      "cell_type": "code",
      "source": [
        "list1 = ['Supercalifragilisticexpialidocious','Honorificabilitudinitatibus','Bababadalgharaghtakamminarronnkonn']\n",
        "\n",
        "max_len = -1\n",
        "for ele in list1:\n",
        "    if(len(ele) > max_len):\n",
        "        max_len = len(ele)\n",
        "        res = ele\n",
        "\n",
        "print(\"Longest String is : \", res)"
      ],
      "metadata": {
        "colab": {
          "base_uri": "https://localhost:8080/"
        },
        "id": "eEBXm4skB4Vr",
        "outputId": "42117c39-d107-489d-8e57-3bfeff180619"
      },
      "execution_count": null,
      "outputs": [
        {
          "output_type": "stream",
          "name": "stdout",
          "text": [
            "Longest String is :  Supercalifragilisticexpialidocious\n"
          ]
        }
      ]
    },
    {
      "cell_type": "markdown",
      "source": [
        "d."
      ],
      "metadata": {
        "id": "2n44-L7KrWVY"
      }
    },
    {
      "cell_type": "code",
      "source": [
        "composers = ['Berlioz', 'Borodin', 'Brian', 'Bartok', 'Bellini', 'Buxtehude', 'Bernstein']\n",
        "composers.sort()\n",
        "print(composers)\n",
        "print('first composer :',composers[0])\n",
        "print('last composer :',composers[-1])"
      ],
      "metadata": {
        "colab": {
          "base_uri": "https://localhost:8080/"
        },
        "id": "56CX0dQKrXNA",
        "outputId": "6da7a45c-dca8-4a7f-aca9-cecf9d6ddb4b"
      },
      "execution_count": null,
      "outputs": [
        {
          "output_type": "stream",
          "name": "stdout",
          "text": [
            "['Bartok', 'Bellini', 'Berlioz', 'Bernstein', 'Borodin', 'Brian', 'Buxtehude']\n",
            "first composer : Bartok\n",
            "last composer : Buxtehude\n"
          ]
        }
      ]
    },
    {
      "cell_type": "markdown",
      "source": [
        "Question 3:"
      ],
      "metadata": {
        "id": "a4c5Ov_K5puc"
      }
    },
    {
      "cell_type": "code",
      "source": [
        "a = float(input ('value of a is = \\n'))\n",
        "b = float(input ('value of b is = \\n'))\n",
        "c = float(input ('value of c is = \\n'))\n",
        "s = (a + b + c) / 2\n",
        "area = (s*(s-a)*(s-b)*(s-c)) ** 0.5\n",
        "print('area of triangle :',area)"
      ],
      "metadata": {
        "id": "MSMTGAeVsf7j",
        "colab": {
          "base_uri": "https://localhost:8080/"
        },
        "outputId": "03931030-8092-45e5-df15-afb63ddb3bba"
      },
      "execution_count": null,
      "outputs": [
        {
          "output_type": "stream",
          "name": "stdout",
          "text": [
            "value of a is = \n",
            "2\n",
            "value of b is = \n",
            "2\n",
            "value of c is = \n",
            "2\n",
            "area of triangle : 1.7320508075688772\n"
          ]
        }
      ]
    },
    {
      "cell_type": "markdown",
      "source": [
        "Question 4:"
      ],
      "metadata": {
        "id": "lPYpxAAB7hSh"
      }
    },
    {
      "cell_type": "code",
      "source": [
        "element = [25,47,42,56,32]\n",
        "even=[]\n",
        "odd=[]\n",
        "for num in element:\n",
        "\n",
        "    if num % 2 == 0:\n",
        "        even.append(num)\n",
        "\n",
        "    else:\n",
        "        odd.append(num)\n",
        "\n",
        "print(\"Even numbers are:\\n\",even)\n",
        "print(\"Odd numbers are:\\n\",odd)"
      ],
      "metadata": {
        "colab": {
          "base_uri": "https://localhost:8080/"
        },
        "id": "Bd-hBL2A9bjn",
        "outputId": "f4134aa7-130e-4f67-9045-028cc60774b5"
      },
      "execution_count": null,
      "outputs": [
        {
          "output_type": "stream",
          "name": "stdout",
          "text": [
            "Even numbers are:\n",
            " [42, 56, 32]\n",
            "Odd numbers are:\n",
            " [25, 47]\n"
          ]
        }
      ]
    },
    {
      "cell_type": "markdown",
      "source": [
        "Question 5:"
      ],
      "metadata": {
        "id": "umA7-FsMAjQm"
      }
    },
    {
      "cell_type": "markdown",
      "source": [
        "a."
      ],
      "metadata": {
        "id": "FJjDa-mlAu8j"
      }
    },
    {
      "cell_type": "code",
      "source": [
        "def inside(x, y, x1, y1, x2, y2):\n",
        "    if x >= x1 and x <= x2 and y >= y1 and y <= y2:\n",
        "        return True\n",
        "    else:\n",
        "        return False\n",
        "print(inside(1,1,0,0,2,3))\n",
        "print(inside(-1,-1,0,0,2,3))"
      ],
      "metadata": {
        "id": "iB4Dxw8cAwCg",
        "colab": {
          "base_uri": "https://localhost:8080/"
        },
        "outputId": "2a6344e2-f563-41d8-8caf-12b4faffacbc"
      },
      "execution_count": null,
      "outputs": [
        {
          "output_type": "stream",
          "name": "stdout",
          "text": [
            "True\n",
            "False\n"
          ]
        }
      ]
    },
    {
      "cell_type": "markdown",
      "source": [
        "b."
      ],
      "metadata": {
        "id": "ftSkrmrGYXcC"
      }
    },
    {
      "cell_type": "code",
      "source": [
        "inside(1,1,0.3,0.5,1.1,0.7)"
      ],
      "metadata": {
        "colab": {
          "base_uri": "https://localhost:8080/"
        },
        "id": "dttVErNCYKxf",
        "outputId": "2aac3933-d27c-44e5-894b-226ceb035f8d"
      },
      "execution_count": null,
      "outputs": [
        {
          "output_type": "execute_result",
          "data": {
            "text/plain": [
              "False"
            ]
          },
          "metadata": {},
          "execution_count": 35
        }
      ]
    },
    {
      "cell_type": "code",
      "source": [
        "inside(1,1,0.5,0.2,1.1,2)"
      ],
      "metadata": {
        "colab": {
          "base_uri": "https://localhost:8080/"
        },
        "id": "-88IesdeYoR-",
        "outputId": "9254120c-350c-4982-c858-517cdd684eae"
      },
      "execution_count": null,
      "outputs": [
        {
          "output_type": "execute_result",
          "data": {
            "text/plain": [
              "True"
            ]
          },
          "metadata": {},
          "execution_count": 36
        }
      ]
    },
    {
      "cell_type": "markdown",
      "source": [
        "Question 6:"
      ],
      "metadata": {
        "id": "iXfG8-qSPA22"
      }
    },
    {
      "cell_type": "code",
      "source": [
        "def pigLatinConvertor():\n",
        "  pigLatin = input(\"Convert message to pig latin: \")\n",
        "  wordList = pigLatin.lower().split(\" \")\n",
        "  vowels = ['a', 'e', 'i', 'o', 'u']\n",
        "  pigLatin = []\n",
        "  eachWord = []\n",
        "  for word in wordList:\n",
        "      if word[0] in 'aeiou':\n",
        "          pigLatin.append(word + 'way')\n",
        "      if word[0] not in 'aeiou':\n",
        "          for letter in word:\n",
        "              if letter in 'aeiou':\n",
        "                  pigLatin.append(word[word.index(letter):] + word[:word.index(letter)] +'ay')\n",
        "      return \" \".join(pigLatin)\n",
        "\n",
        "print(pigLatinConvertor())\n",
        "print(pigLatinConvertor())"
      ],
      "metadata": {
        "colab": {
          "base_uri": "https://localhost:8080/"
        },
        "id": "SGpXZZyFPEJI",
        "outputId": "47cc746a-29c4-4070-aae2-fa1d49bdbb5f"
      },
      "execution_count": null,
      "outputs": [
        {
          "output_type": "stream",
          "name": "stdout",
          "text": [
            "Convert message to pig latin: happy\n",
            "appyhay\n",
            "Convert message to pig latin: Enter\n",
            "enterway\n"
          ]
        }
      ]
    },
    {
      "cell_type": "markdown",
      "source": [
        "Question 7:"
      ],
      "metadata": {
        "id": "lUV3whCvvyTJ"
      }
    },
    {
      "cell_type": "code",
      "source": [
        "def bldcount(filename):\n",
        "  infile=open(filename,'r')\n",
        "  content= infile.read()\n",
        "  infile.close()\n",
        "  content=content.split()\n",
        "  bloodtype = ['A','B','AB','O','OO']\n",
        "  for i in bloodtype:\n",
        "    if content.count(i)==0:\n",
        "      print('There are no patients of blood type',i+'.')\n",
        "    elif content.count(i)==1:\n",
        "      print('There is one patient of blood type',i+'.')\n",
        "    else:\n",
        "      print('There are',content.count(i),'patients of blood type', i+'.')\n",
        "bldcount('blood.txt')"
      ],
      "metadata": {
        "id": "rUOhH52Ev0Mw",
        "colab": {
          "base_uri": "https://localhost:8080/"
        },
        "outputId": "f8203573-4efd-4206-ba31-21de40894cd3"
      },
      "execution_count": null,
      "outputs": [
        {
          "output_type": "stream",
          "name": "stdout",
          "text": [
            "There are 15 patients of blood type A.\n",
            "There is one patient of blood type B.\n",
            "There are 13 patients of blood type AB.\n",
            "There are 15 patients of blood type O.\n",
            "There are no patients of blood type OO.\n"
          ]
        }
      ]
    },
    {
      "cell_type": "markdown",
      "source": [
        "Question 8:"
      ],
      "metadata": {
        "id": "ikOFqb9IQSOS"
      }
    },
    {
      "cell_type": "code",
      "source": [
        "def curconv(curname,price):\n",
        "  rates={\n",
        "      \"AUD\": 1.0345157,\n",
        "      \"CHF\": 1.0237414,\n",
        "      \"CNY\": 0.1550176,\n",
        "      \"DKK\": 0.1651442,\n",
        "      \"EUR\": 1.2296544,\n",
        "      \"GBP\": 1.5550989,\n",
        "      \"HKD\": 0.1270207,\n",
        "      \"INR\": 0.0177643,\n",
        "      \"JPY\": 0.01241401,\n",
        "      \"MXN\": 0.0751848,\n",
        "      \"MYR\": 0.3145411,\n",
        "      \"NOK\": 0.1677063,\n",
        "      \"NZD\": 0.8003591,\n",
        "      \"PHP\": 0.0233234,\n",
        "      \"SEK\": 0.148269,\n",
        "      \"SGD\": 0.788871,\n",
        "      \"THB\": 0.0313789\n",
        "  }\n",
        "  if curname in rates:\n",
        "    return price*rates[curname]"
      ],
      "metadata": {
        "id": "Aqh9PsZSQU3M"
      },
      "execution_count": null,
      "outputs": []
    },
    {
      "cell_type": "code",
      "source": [
        "curconv('JPY', 100)"
      ],
      "metadata": {
        "colab": {
          "base_uri": "https://localhost:8080/"
        },
        "id": "agthNxYdd32k",
        "outputId": "01cea7ab-aba8-4e00-c9f8-e8029d974e08"
      },
      "execution_count": null,
      "outputs": [
        {
          "output_type": "execute_result",
          "data": {
            "text/plain": [
              "1.241401"
            ]
          },
          "metadata": {},
          "execution_count": 46
        }
      ]
    },
    {
      "cell_type": "code",
      "source": [
        "curconv('EUR', 100)"
      ],
      "metadata": {
        "colab": {
          "base_uri": "https://localhost:8080/"
        },
        "id": "3MvPIxVEdwdN",
        "outputId": "c817216f-d599-4141-ed75-2302f432208e"
      },
      "execution_count": null,
      "outputs": [
        {
          "output_type": "execute_result",
          "data": {
            "text/plain": [
              "122.96544"
            ]
          },
          "metadata": {},
          "execution_count": 47
        }
      ]
    },
    {
      "cell_type": "markdown",
      "source": [
        "Question 9:"
      ],
      "metadata": {
        "id": "NJTFf-M4QmVx"
      }
    },
    {
      "cell_type": "code",
      "source": [
        "6+'a'"
      ],
      "metadata": {
        "id": "Hi7DAbrnQn5-",
        "colab": {
          "base_uri": "https://localhost:8080/",
          "height": 165
        },
        "outputId": "064445b2-3065-4728-fbf0-05252872447d"
      },
      "execution_count": null,
      "outputs": [
        {
          "output_type": "error",
          "ename": "TypeError",
          "evalue": "ignored",
          "traceback": [
            "\u001b[0;31m---------------------------------------------------------------------------\u001b[0m",
            "\u001b[0;31mTypeError\u001b[0m                                 Traceback (most recent call last)",
            "\u001b[0;32m<ipython-input-48-7815ec48973b>\u001b[0m in \u001b[0;36m<cell line: 1>\u001b[0;34m()\u001b[0m\n\u001b[0;32m----> 1\u001b[0;31m \u001b[0;36m6\u001b[0m\u001b[0;34m+\u001b[0m\u001b[0;34m'a'\u001b[0m\u001b[0;34m\u001b[0m\u001b[0;34m\u001b[0m\u001b[0m\n\u001b[0m",
            "\u001b[0;31mTypeError\u001b[0m: unsupported operand type(s) for +: 'int' and 'str'"
          ]
        }
      ]
    },
    {
      "cell_type": "code",
      "source": [
        "a=[2,5,7,3,9,5,4,6,5,4]\n",
        "print(len(a))\n",
        "print(a[9])\n",
        "print(a[12])"
      ],
      "metadata": {
        "colab": {
          "base_uri": "https://localhost:8080/",
          "height": 235
        },
        "id": "0L3FvZ-Ypj5j",
        "outputId": "1b5a2bff-d207-41e4-928d-69e9703f74cf"
      },
      "execution_count": null,
      "outputs": [
        {
          "output_type": "stream",
          "name": "stdout",
          "text": [
            "10\n",
            "4\n"
          ]
        },
        {
          "output_type": "error",
          "ename": "IndexError",
          "evalue": "ignored",
          "traceback": [
            "\u001b[0;31m---------------------------------------------------------------------------\u001b[0m",
            "\u001b[0;31mIndexError\u001b[0m                                Traceback (most recent call last)",
            "\u001b[0;32m<ipython-input-9-2b4cd3c3c076>\u001b[0m in \u001b[0;36m<cell line: 4>\u001b[0;34m()\u001b[0m\n\u001b[1;32m      2\u001b[0m \u001b[0mprint\u001b[0m\u001b[0;34m(\u001b[0m\u001b[0mlen\u001b[0m\u001b[0;34m(\u001b[0m\u001b[0ma\u001b[0m\u001b[0;34m)\u001b[0m\u001b[0;34m)\u001b[0m\u001b[0;34m\u001b[0m\u001b[0;34m\u001b[0m\u001b[0m\n\u001b[1;32m      3\u001b[0m \u001b[0mprint\u001b[0m\u001b[0;34m(\u001b[0m\u001b[0ma\u001b[0m\u001b[0;34m[\u001b[0m\u001b[0;36m9\u001b[0m\u001b[0;34m]\u001b[0m\u001b[0;34m)\u001b[0m\u001b[0;34m\u001b[0m\u001b[0;34m\u001b[0m\u001b[0m\n\u001b[0;32m----> 4\u001b[0;31m \u001b[0mprint\u001b[0m\u001b[0;34m(\u001b[0m\u001b[0ma\u001b[0m\u001b[0;34m[\u001b[0m\u001b[0;36m12\u001b[0m\u001b[0;34m]\u001b[0m\u001b[0;34m)\u001b[0m\u001b[0;34m\u001b[0m\u001b[0;34m\u001b[0m\u001b[0m\n\u001b[0m",
            "\u001b[0;31mIndexError\u001b[0m: list index out of range"
          ]
        }
      ]
    },
    {
      "cell_type": "code",
      "source": [
        "import math\n",
        "math.sqrt(-1.0)"
      ],
      "metadata": {
        "colab": {
          "base_uri": "https://localhost:8080/",
          "height": 183
        },
        "id": "9vfVeXcNp0i7",
        "outputId": "3f71a5d2-dd59-4d48-b4c6-d89e7475e228"
      },
      "execution_count": null,
      "outputs": [
        {
          "output_type": "error",
          "ename": "ValueError",
          "evalue": "ignored",
          "traceback": [
            "\u001b[0;31m---------------------------------------------------------------------------\u001b[0m",
            "\u001b[0;31mValueError\u001b[0m                                Traceback (most recent call last)",
            "\u001b[0;32m<ipython-input-21-d39e523296ce>\u001b[0m in \u001b[0;36m<cell line: 2>\u001b[0;34m()\u001b[0m\n\u001b[1;32m      1\u001b[0m \u001b[0;32mimport\u001b[0m \u001b[0mmath\u001b[0m\u001b[0;34m\u001b[0m\u001b[0;34m\u001b[0m\u001b[0m\n\u001b[0;32m----> 2\u001b[0;31m \u001b[0mmath\u001b[0m\u001b[0;34m.\u001b[0m\u001b[0msqrt\u001b[0m\u001b[0;34m(\u001b[0m\u001b[0;34m-\u001b[0m\u001b[0;36m1.0\u001b[0m\u001b[0;34m)\u001b[0m\u001b[0;34m\u001b[0m\u001b[0;34m\u001b[0m\u001b[0m\n\u001b[0m",
            "\u001b[0;31mValueError\u001b[0m: math domain error"
          ]
        }
      ]
    },
    {
      "cell_type": "code",
      "source": [
        "print(x)"
      ],
      "metadata": {
        "colab": {
          "base_uri": "https://localhost:8080/",
          "height": 165
        },
        "id": "ghPayNJup5wq",
        "outputId": "c09ae774-36dd-47b3-a07a-a5d576c78116"
      },
      "execution_count": null,
      "outputs": [
        {
          "output_type": "error",
          "ename": "NameError",
          "evalue": "ignored",
          "traceback": [
            "\u001b[0;31m---------------------------------------------------------------------------\u001b[0m",
            "\u001b[0;31mNameError\u001b[0m                                 Traceback (most recent call last)",
            "\u001b[0;32m<ipython-input-22-fc17d851ef81>\u001b[0m in \u001b[0;36m<cell line: 1>\u001b[0;34m()\u001b[0m\n\u001b[0;32m----> 1\u001b[0;31m \u001b[0mprint\u001b[0m\u001b[0;34m(\u001b[0m\u001b[0mx\u001b[0m\u001b[0;34m)\u001b[0m\u001b[0;34m\u001b[0m\u001b[0;34m\u001b[0m\u001b[0m\n\u001b[0m",
            "\u001b[0;31mNameError\u001b[0m: name 'x' is not defined"
          ]
        }
      ]
    },
    {
      "cell_type": "code",
      "source": [
        "infile=open(\"bloodType.txt\",'r')\n",
        "content= infile.read()\n",
        "infile.close()"
      ],
      "metadata": {
        "colab": {
          "base_uri": "https://localhost:8080/",
          "height": 200
        },
        "id": "DQ-MdtuHp_0n",
        "outputId": "71b0a954-1d1f-43ae-8c5d-329d29c818cc"
      },
      "execution_count": null,
      "outputs": [
        {
          "output_type": "error",
          "ename": "FileNotFoundError",
          "evalue": "ignored",
          "traceback": [
            "\u001b[0;31m---------------------------------------------------------------------------\u001b[0m",
            "\u001b[0;31mFileNotFoundError\u001b[0m                         Traceback (most recent call last)",
            "\u001b[0;32m<ipython-input-23-70a5c341b997>\u001b[0m in \u001b[0;36m<cell line: 1>\u001b[0;34m()\u001b[0m\n\u001b[0;32m----> 1\u001b[0;31m \u001b[0minfile\u001b[0m\u001b[0;34m=\u001b[0m\u001b[0mopen\u001b[0m\u001b[0;34m(\u001b[0m\u001b[0;34m\"bloodType.txt\"\u001b[0m\u001b[0;34m,\u001b[0m\u001b[0;34m'r'\u001b[0m\u001b[0;34m)\u001b[0m\u001b[0;34m\u001b[0m\u001b[0;34m\u001b[0m\u001b[0m\n\u001b[0m\u001b[1;32m      2\u001b[0m \u001b[0mcontent\u001b[0m\u001b[0;34m=\u001b[0m \u001b[0minfile\u001b[0m\u001b[0;34m.\u001b[0m\u001b[0mread\u001b[0m\u001b[0;34m(\u001b[0m\u001b[0;34m)\u001b[0m\u001b[0;34m\u001b[0m\u001b[0;34m\u001b[0m\u001b[0m\n\u001b[1;32m      3\u001b[0m \u001b[0minfile\u001b[0m\u001b[0;34m.\u001b[0m\u001b[0mclose\u001b[0m\u001b[0;34m(\u001b[0m\u001b[0;34m)\u001b[0m\u001b[0;34m\u001b[0m\u001b[0;34m\u001b[0m\u001b[0m\n",
            "\u001b[0;31mFileNotFoundError\u001b[0m: [Errno 2] No such file or directory: 'bloodType.txt'"
          ]
        }
      ]
    },
    {
      "cell_type": "markdown",
      "source": [
        "Trying to add incompatible variables, as in\n",
        "adding 6 + ‘a’\n",
        "---------->TypeError: unsupported operand type(s) for +: 'int' and 'str'\n",
        "\n",
        "Referring to the 12th item of a list that has only 10\n",
        "items---------->IndexError: list index out of range\n",
        "\n",
        "\n",
        "Using a value that is out of range for a function’s\n",
        "input, such as calling math.sqrt(-1.0)---------->ValueError: math domain error\n",
        "\n",
        "\n",
        "Using an undeclared variable, such as print(x) when x has not been defined---------->NameError: name 'x' is not defined\n",
        "\n",
        "\n",
        "Trying to open a file that does not exist, such as\n",
        "mistyping the file name or looking in the wrong\n",
        "directory.---------->FileNotFoundError: No such file or directory: 'bloodType.txt'"
      ],
      "metadata": {
        "id": "AxvGcEl5qQ7Y"
      }
    },
    {
      "cell_type": "markdown",
      "source": [
        "Question 10:"
      ],
      "metadata": {
        "id": "P9qVYI1oRmUo"
      }
    },
    {
      "cell_type": "code",
      "source": [
        "def frequencies(a:str):\n",
        "  letters=\"abcdefghijklmnopqrstuvwxyz\"\n",
        "  a_len=[0]*26\n",
        "  for i in a:\n",
        "    if i in letters:\n",
        "      a_len[letters.index(i)]+=1\n",
        "  return a_len"
      ],
      "metadata": {
        "id": "baXQhnNsRn7I"
      },
      "execution_count": null,
      "outputs": []
    },
    {
      "cell_type": "code",
      "source": [
        "frequencies('The quick red fox got bored and went home.')"
      ],
      "metadata": {
        "colab": {
          "base_uri": "https://localhost:8080/"
        },
        "id": "qzXbY87TvGKt",
        "outputId": "ef843357-c21a-4bcf-ac80-8143f9b64855"
      },
      "execution_count": null,
      "outputs": [
        {
          "output_type": "execute_result",
          "data": {
            "text/plain": [
              "[1, 1, 1, 3, 5, 1, 1, 2, 1, 0, 1, 0, 1, 2, 4, 0, 1, 2, 0, 2, 1, 0, 1, 1, 0, 0]"
            ]
          },
          "metadata": {},
          "execution_count": 51
        }
      ]
    },
    {
      "cell_type": "code",
      "source": [
        "frequencies('apple')"
      ],
      "metadata": {
        "colab": {
          "base_uri": "https://localhost:8080/"
        },
        "id": "gJKjqo27vk7c",
        "outputId": "dcf181b8-c2a3-4394-b503-071fcc4794cb"
      },
      "execution_count": null,
      "outputs": [
        {
          "output_type": "execute_result",
          "data": {
            "text/plain": [
              "[1, 0, 0, 0, 1, 0, 0, 0, 0, 0, 0, 1, 0, 0, 0, 2, 0, 0, 0, 0, 0, 0, 0, 0, 0, 0]"
            ]
          },
          "metadata": {},
          "execution_count": 53
        }
      ]
    }
  ]
}